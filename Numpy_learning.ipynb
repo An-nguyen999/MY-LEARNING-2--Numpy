{
 "cells": [
  {
   "cell_type": "code",
   "execution_count": 1,
   "id": "b57fe4a0",
   "metadata": {},
   "outputs": [],
   "source": [
    "import pandas as pd\n",
    "import numpy as np"
   ]
  },
  {
   "cell_type": "markdown",
   "id": "23e3697d",
   "metadata": {},
   "source": [
    "# 1.1 Numpy array"
   ]
  },
  {
   "cell_type": "code",
   "execution_count": 2,
   "id": "051233ea",
   "metadata": {},
   "outputs": [
    {
     "data": {
      "text/plain": [
       "array([1, 2, 3, 4])"
      ]
     },
     "execution_count": 2,
     "metadata": {},
     "output_type": "execute_result"
    }
   ],
   "source": [
    "np.array([1,2,3,4])"
   ]
  },
  {
   "cell_type": "code",
   "execution_count": 3,
   "id": "63fd7e1b",
   "metadata": {},
   "outputs": [
    {
     "data": {
      "text/plain": [
       "[3.14, 3, 4]"
      ]
     },
     "execution_count": 3,
     "metadata": {},
     "output_type": "execute_result"
    }
   ],
   "source": [
    "[3.14 , 3, 4]"
   ]
  },
  {
   "cell_type": "code",
   "execution_count": 4,
   "id": "03f44173",
   "metadata": {},
   "outputs": [
    {
     "data": {
      "text/plain": [
       "array([3.14, 3.  , 4.  ])"
      ]
     },
     "execution_count": 4,
     "metadata": {},
     "output_type": "execute_result"
    }
   ],
   "source": [
    "np.array([3.14 , 3, 4]) #sẽ chuyển tất cả về dạng float nếu sử dụng hàm trong numpy"
   ]
  },
  {
   "cell_type": "code",
   "execution_count": 5,
   "id": "f1f44345",
   "metadata": {},
   "outputs": [
    {
     "data": {
      "text/plain": [
       "array([3.14, 3.  , 4.  ], dtype=float32)"
      ]
     },
     "execution_count": 5,
     "metadata": {},
     "output_type": "execute_result"
    }
   ],
   "source": [
    "np.array([3.14 , 3, 4], dtype = 'float32')"
   ]
  },
  {
   "cell_type": "code",
   "execution_count": 6,
   "id": "1ab61e14",
   "metadata": {},
   "outputs": [
    {
     "data": {
      "text/plain": [
       "numpy.ndarray"
      ]
     },
     "execution_count": 6,
     "metadata": {},
     "output_type": "execute_result"
    }
   ],
   "source": [
    "a1 = np.array([1,2,3,4])\n",
    "type(a1)"
   ]
  },
  {
   "cell_type": "code",
   "execution_count": 7,
   "id": "8edd889e",
   "metadata": {},
   "outputs": [
    {
     "data": {
      "text/plain": [
       "numpy.ndarray"
      ]
     },
     "execution_count": 7,
     "metadata": {},
     "output_type": "execute_result"
    }
   ],
   "source": [
    "a2 = np.array([[1,2,3,4],[4,5,6,7]])\n",
    "type(a2)"
   ]
  },
  {
   "cell_type": "code",
   "execution_count": 8,
   "id": "3bd7735e",
   "metadata": {},
   "outputs": [
    {
     "data": {
      "text/plain": [
       "(2, 4)"
      ]
     },
     "execution_count": 8,
     "metadata": {},
     "output_type": "execute_result"
    }
   ],
   "source": [
    "a2.shape #xem số cột, số dòng của array"
   ]
  },
  {
   "cell_type": "code",
   "execution_count": 9,
   "id": "6be6fdbd",
   "metadata": {},
   "outputs": [
    {
     "data": {
      "text/plain": [
       "2"
      ]
     },
     "execution_count": 9,
     "metadata": {},
     "output_type": "execute_result"
    }
   ],
   "source": [
    "a2.ndim"
   ]
  },
  {
   "cell_type": "code",
   "execution_count": 10,
   "id": "2678fa20",
   "metadata": {},
   "outputs": [
    {
     "data": {
      "text/plain": [
       "dtype('int32')"
      ]
     },
     "execution_count": 10,
     "metadata": {},
     "output_type": "execute_result"
    }
   ],
   "source": [
    "a2.dtype"
   ]
  },
  {
   "cell_type": "code",
   "execution_count": 11,
   "id": "7095e96f",
   "metadata": {},
   "outputs": [
    {
     "data": {
      "text/plain": [
       "8"
      ]
     },
     "execution_count": 11,
     "metadata": {},
     "output_type": "execute_result"
    }
   ],
   "source": [
    "a2.size"
   ]
  },
  {
   "cell_type": "markdown",
   "id": "b197b28a",
   "metadata": {},
   "source": [
    "# 1.2 Numpy array from Scratch (zeros, ones, full, arange, linspace)\n"
   ]
  },
  {
   "cell_type": "code",
   "execution_count": 12,
   "id": "f4a7214a",
   "metadata": {},
   "outputs": [
    {
     "data": {
      "text/plain": [
       "array([[0, 0, 0, 0],\n",
       "       [0, 0, 0, 0]])"
      ]
     },
     "execution_count": 12,
     "metadata": {},
     "output_type": "execute_result"
    }
   ],
   "source": [
    "np.zeros([2,4], dtype = int) #bảng 2 chiều - sẽ tạo ra số 0"
   ]
  },
  {
   "cell_type": "code",
   "execution_count": 13,
   "id": "b32969b2",
   "metadata": {},
   "outputs": [
    {
     "data": {
      "text/plain": [
       "array([[1., 1., 1., 1., 1.],\n",
       "       [1., 1., 1., 1., 1.],\n",
       "       [1., 1., 1., 1., 1.]])"
      ]
     },
     "execution_count": 13,
     "metadata": {},
     "output_type": "execute_result"
    }
   ],
   "source": [
    "np.ones((3,5),dtype=float) #bảng 2 chiều - sẽ tạo ra số 1"
   ]
  },
  {
   "cell_type": "code",
   "execution_count": 14,
   "id": "35da6fc7",
   "metadata": {},
   "outputs": [
    {
     "data": {
      "text/plain": [
       "array([ 0,  2,  4,  6,  8, 10, 12, 14, 16, 18])"
      ]
     },
     "execution_count": 14,
     "metadata": {},
     "output_type": "execute_result"
    }
   ],
   "source": [
    "np.arange(0,20,2)"
   ]
  },
  {
   "cell_type": "code",
   "execution_count": 15,
   "id": "42c0cff9",
   "metadata": {},
   "outputs": [
    {
     "data": {
      "text/plain": [
       "array([[6.9, 6.9, 6.9, 6.9, 6.9],\n",
       "       [6.9, 6.9, 6.9, 6.9, 6.9],\n",
       "       [6.9, 6.9, 6.9, 6.9, 6.9]])"
      ]
     },
     "execution_count": 15,
     "metadata": {},
     "output_type": "execute_result"
    }
   ],
   "source": [
    "np.full((3,5),6.9)"
   ]
  },
  {
   "cell_type": "code",
   "execution_count": 16,
   "id": "a5d17982",
   "metadata": {},
   "outputs": [
    {
     "data": {
      "text/plain": [
       "array([0.  , 0.25, 0.5 , 0.75, 1.  ])"
      ]
     },
     "execution_count": 16,
     "metadata": {},
     "output_type": "execute_result"
    }
   ],
   "source": [
    "np.linspace(0,1,5)"
   ]
  },
  {
   "cell_type": "markdown",
   "id": "cb888c78",
   "metadata": {},
   "source": [
    "# 1.3 Random"
   ]
  },
  {
   "cell_type": "code",
   "execution_count": 17,
   "id": "8d2a64e9",
   "metadata": {},
   "outputs": [
    {
     "data": {
      "text/plain": [
       "array([[0.57497051, 0.40066113, 0.94463958, 0.95238404],\n",
       "       [0.11115281, 0.97997982, 0.53421182, 0.06348118],\n",
       "       [0.75088284, 0.04703477, 0.19970423, 0.00140796],\n",
       "       [0.08733889, 0.81364141, 0.7746278 , 0.37495747]])"
      ]
     },
     "execution_count": 17,
     "metadata": {},
     "output_type": "execute_result"
    }
   ],
   "source": [
    "np.random.random((4,4))"
   ]
  },
  {
   "cell_type": "code",
   "execution_count": 18,
   "id": "ee13e59a",
   "metadata": {},
   "outputs": [
    {
     "data": {
      "text/plain": [
       "array([0.0294879 , 0.06682303, 0.07102691, 0.32011439])"
      ]
     },
     "execution_count": 18,
     "metadata": {},
     "output_type": "execute_result"
    }
   ],
   "source": [
    "np.random.random((4))"
   ]
  },
  {
   "cell_type": "code",
   "execution_count": 19,
   "id": "12c1e633",
   "metadata": {},
   "outputs": [
    {
     "data": {
      "text/plain": [
       "array([[0.5488135 , 0.71518937, 0.60276338, 0.54488318],\n",
       "       [0.4236548 , 0.64589411, 0.43758721, 0.891773  ],\n",
       "       [0.96366276, 0.38344152, 0.79172504, 0.52889492],\n",
       "       [0.56804456, 0.92559664, 0.07103606, 0.0871293 ]])"
      ]
     },
     "execution_count": 19,
     "metadata": {},
     "output_type": "execute_result"
    }
   ],
   "source": [
    "#không thay đổi hàm ngẫu nhiên mỗi lần chạy và giống nhau giữa các máy\n",
    "np.random.seed(0)\n",
    "np.random.random((4,4))"
   ]
  },
  {
   "cell_type": "code",
   "execution_count": 20,
   "id": "6c595e6e",
   "metadata": {},
   "outputs": [
    {
     "data": {
      "text/plain": [
       "array([[ 0.44386323,  0.33367433,  1.49407907],\n",
       "       [-0.20515826,  0.3130677 , -0.85409574],\n",
       "       [-2.55298982,  0.6536186 ,  0.8644362 ]])"
      ]
     },
     "execution_count": 20,
     "metadata": {},
     "output_type": "execute_result"
    }
   ],
   "source": [
    "np.random.normal(0,1,(3,3)) #tạo ra array có phân phối chuẩn"
   ]
  },
  {
   "cell_type": "code",
   "execution_count": 21,
   "id": "0031e2cf",
   "metadata": {},
   "outputs": [
    {
     "data": {
      "text/plain": [
       "array([[7, 2, 0, 0, 4],\n",
       "       [5, 5, 6, 8, 4],\n",
       "       [1, 4, 9, 8, 1],\n",
       "       [1, 7, 9, 9, 3]])"
      ]
     },
     "execution_count": 21,
     "metadata": {},
     "output_type": "execute_result"
    }
   ],
   "source": [
    "np.random.randint(0,10,(4,5))"
   ]
  },
  {
   "cell_type": "code",
   "execution_count": 22,
   "id": "091478f5",
   "metadata": {},
   "outputs": [
    {
     "data": {
      "text/plain": [
       "array([[0.65314004, 0.17090959, 0.35815217, 0.75068614],\n",
       "       [0.60783067, 0.32504723, 0.03842543, 0.63427406],\n",
       "       [0.95894927, 0.65279032, 0.63505887, 0.99529957],\n",
       "       [0.58185033, 0.41436859, 0.4746975 , 0.6235101 ]])"
      ]
     },
     "execution_count": 22,
     "metadata": {},
     "output_type": "execute_result"
    }
   ],
   "source": [
    "np.random.rand(4,4)"
   ]
  },
  {
   "cell_type": "markdown",
   "id": "8caea89a",
   "metadata": {},
   "source": [
    "# 1.4 Array Indexing & Slicing"
   ]
  },
  {
   "cell_type": "markdown",
   "id": "bc968499",
   "metadata": {},
   "source": [
    "# One-dimensional subarray"
   ]
  },
  {
   "cell_type": "code",
   "execution_count": 23,
   "id": "2ca7b827",
   "metadata": {},
   "outputs": [
    {
     "data": {
      "text/plain": [
       "array([15, 13, 16, 17,  5,  9])"
      ]
     },
     "execution_count": 23,
     "metadata": {},
     "output_type": "execute_result"
    }
   ],
   "source": [
    "x1 = np.random.randint(0,20, size =6)\n",
    "x1"
   ]
  },
  {
   "cell_type": "code",
   "execution_count": 24,
   "id": "8cfd7f34",
   "metadata": {},
   "outputs": [
    {
     "data": {
      "text/plain": [
       "(5, 15, 9)"
      ]
     },
     "execution_count": 24,
     "metadata": {},
     "output_type": "execute_result"
    }
   ],
   "source": [
    "x1[4], x1[0], x1[-1] #-1 là vị trí cuối cùng"
   ]
  },
  {
   "cell_type": "markdown",
   "id": "683d3f1d",
   "metadata": {},
   "source": [
    "# Multi-dimensional subarray"
   ]
  },
  {
   "cell_type": "code",
   "execution_count": 25,
   "id": "195f193b",
   "metadata": {},
   "outputs": [],
   "source": [
    "x2 = np.random.randint(10, size =(3,4))"
   ]
  },
  {
   "cell_type": "code",
   "execution_count": 26,
   "id": "adf95239",
   "metadata": {},
   "outputs": [
    {
     "data": {
      "text/plain": [
       "array([[3, 0, 5, 0],\n",
       "       [1, 2, 4, 2],\n",
       "       [0, 3, 2, 0]])"
      ]
     },
     "execution_count": 26,
     "metadata": {},
     "output_type": "execute_result"
    }
   ],
   "source": [
    "x2"
   ]
  },
  {
   "cell_type": "code",
   "execution_count": 27,
   "id": "d3b11c6e",
   "metadata": {},
   "outputs": [
    {
     "data": {
      "text/plain": [
       "1"
      ]
     },
     "execution_count": 27,
     "metadata": {},
     "output_type": "execute_result"
    }
   ],
   "source": [
    "x2[1,0] #tìm giá trị tại vị trí đó"
   ]
  },
  {
   "cell_type": "code",
   "execution_count": 28,
   "id": "778b7545",
   "metadata": {},
   "outputs": [],
   "source": [
    "x2[1,2] = 5 #thay đổi dữ liệu của 1 vị trí mà mình muốn"
   ]
  },
  {
   "cell_type": "code",
   "execution_count": 29,
   "id": "d4841786",
   "metadata": {},
   "outputs": [
    {
     "data": {
      "text/plain": [
       "array([[3, 0, 5, 0],\n",
       "       [1, 2, 5, 2],\n",
       "       [0, 3, 2, 0]])"
      ]
     },
     "execution_count": 29,
     "metadata": {},
     "output_type": "execute_result"
    }
   ],
   "source": [
    "x2"
   ]
  },
  {
   "cell_type": "markdown",
   "id": "75422b27",
   "metadata": {},
   "source": [
    "# Slicing"
   ]
  },
  {
   "cell_type": "code",
   "execution_count": 30,
   "id": "5ce8ef73",
   "metadata": {},
   "outputs": [
    {
     "data": {
      "text/plain": [
       "array([15, 13, 16, 17,  5,  9])"
      ]
     },
     "execution_count": 30,
     "metadata": {},
     "output_type": "execute_result"
    }
   ],
   "source": [
    "x1"
   ]
  },
  {
   "cell_type": "code",
   "execution_count": 31,
   "id": "69811d9a",
   "metadata": {},
   "outputs": [
    {
     "data": {
      "text/plain": [
       "array([15, 13, 16])"
      ]
     },
     "execution_count": 31,
     "metadata": {},
     "output_type": "execute_result"
    }
   ],
   "source": [
    "x1[0:3]"
   ]
  },
  {
   "cell_type": "code",
   "execution_count": 32,
   "id": "9b0866c7",
   "metadata": {},
   "outputs": [
    {
     "data": {
      "text/plain": [
       "array([16, 17])"
      ]
     },
     "execution_count": 32,
     "metadata": {},
     "output_type": "execute_result"
    }
   ],
   "source": [
    "x1[2:4]"
   ]
  },
  {
   "cell_type": "code",
   "execution_count": 33,
   "id": "5f6efd41",
   "metadata": {},
   "outputs": [
    {
     "data": {
      "text/plain": [
       "array([15, 16,  5])"
      ]
     },
     "execution_count": 33,
     "metadata": {},
     "output_type": "execute_result"
    }
   ],
   "source": [
    "x1[::2]"
   ]
  },
  {
   "cell_type": "code",
   "execution_count": 34,
   "id": "52b01618",
   "metadata": {},
   "outputs": [
    {
     "data": {
      "text/plain": [
       "array([13, 17,  9])"
      ]
     },
     "execution_count": 34,
     "metadata": {},
     "output_type": "execute_result"
    }
   ],
   "source": [
    "x1[1::2]"
   ]
  },
  {
   "cell_type": "code",
   "execution_count": 35,
   "id": "b4cd1e0d",
   "metadata": {},
   "outputs": [
    {
     "data": {
      "text/plain": [
       "array([[3, 0, 5, 0],\n",
       "       [1, 2, 5, 2],\n",
       "       [0, 3, 2, 0]])"
      ]
     },
     "execution_count": 35,
     "metadata": {},
     "output_type": "execute_result"
    }
   ],
   "source": [
    "x2"
   ]
  },
  {
   "cell_type": "code",
   "execution_count": 36,
   "id": "3f583ce8",
   "metadata": {},
   "outputs": [
    {
     "data": {
      "text/plain": [
       "array([[3, 0, 5],\n",
       "       [1, 2, 5]])"
      ]
     },
     "execution_count": 36,
     "metadata": {},
     "output_type": "execute_result"
    }
   ],
   "source": [
    "x2[0:2,0:3] #hàng - cột"
   ]
  },
  {
   "cell_type": "code",
   "execution_count": 37,
   "id": "b07284a0",
   "metadata": {},
   "outputs": [
    {
     "data": {
      "text/plain": [
       "array([[3, 0],\n",
       "       [1, 2],\n",
       "       [0, 3]])"
      ]
     },
     "execution_count": 37,
     "metadata": {},
     "output_type": "execute_result"
    }
   ],
   "source": [
    "x2[:,:2]"
   ]
  },
  {
   "cell_type": "markdown",
   "id": "48bd2a63",
   "metadata": {},
   "source": [
    "# 1.5 Reshape of arrays & Transpose (T)"
   ]
  },
  {
   "cell_type": "code",
   "execution_count": 38,
   "id": "018cf001",
   "metadata": {},
   "outputs": [],
   "source": [
    "grid =np.arange(1,10)"
   ]
  },
  {
   "cell_type": "code",
   "execution_count": 39,
   "id": "d1a52ecb",
   "metadata": {},
   "outputs": [
    {
     "data": {
      "text/plain": [
       "(9,)"
      ]
     },
     "execution_count": 39,
     "metadata": {},
     "output_type": "execute_result"
    }
   ],
   "source": [
    "grid.shape"
   ]
  },
  {
   "cell_type": "code",
   "execution_count": 40,
   "id": "796a89ee",
   "metadata": {},
   "outputs": [
    {
     "data": {
      "text/plain": [
       "array([[1, 2, 3],\n",
       "       [4, 5, 6],\n",
       "       [7, 8, 9]])"
      ]
     },
     "execution_count": 40,
     "metadata": {},
     "output_type": "execute_result"
    }
   ],
   "source": [
    "grid.reshape((3,3)) #thay đổi cấu trúc của array"
   ]
  },
  {
   "cell_type": "code",
   "execution_count": 41,
   "id": "f34bb46d",
   "metadata": {},
   "outputs": [
    {
     "data": {
      "text/plain": [
       "(3,)"
      ]
     },
     "execution_count": 41,
     "metadata": {},
     "output_type": "execute_result"
    }
   ],
   "source": [
    "x = np.array([1,2,3])\n",
    "x.shape"
   ]
  },
  {
   "cell_type": "code",
   "execution_count": 42,
   "id": "93ea592a",
   "metadata": {},
   "outputs": [
    {
     "data": {
      "text/plain": [
       "(1, 3)"
      ]
     },
     "execution_count": 42,
     "metadata": {},
     "output_type": "execute_result"
    }
   ],
   "source": [
    "x.reshape((1,3)).shape"
   ]
  },
  {
   "cell_type": "code",
   "execution_count": 43,
   "id": "481f2629",
   "metadata": {},
   "outputs": [],
   "source": [
    "x3= np.array([[1.,2.],[3.,4.]])"
   ]
  },
  {
   "cell_type": "code",
   "execution_count": 44,
   "id": "fdd40228",
   "metadata": {},
   "outputs": [
    {
     "data": {
      "text/plain": [
       "array([[1., 2.],\n",
       "       [3., 4.]])"
      ]
     },
     "execution_count": 44,
     "metadata": {},
     "output_type": "execute_result"
    }
   ],
   "source": [
    "x3"
   ]
  },
  {
   "cell_type": "code",
   "execution_count": 45,
   "id": "9b645fff",
   "metadata": {},
   "outputs": [
    {
     "data": {
      "text/plain": [
       "array([1, 2, 3])"
      ]
     },
     "execution_count": 45,
     "metadata": {},
     "output_type": "execute_result"
    }
   ],
   "source": [
    "x.T #thay đổi thứ tự cột thành dòng và dòng thành cột"
   ]
  },
  {
   "cell_type": "markdown",
   "id": "f06e5f0c",
   "metadata": {},
   "source": [
    "# 1.6 Concatenate & Split"
   ]
  },
  {
   "cell_type": "markdown",
   "id": "f14df31d",
   "metadata": {},
   "source": [
    "Concatenate"
   ]
  },
  {
   "cell_type": "code",
   "execution_count": 46,
   "id": "ebc5ae78",
   "metadata": {},
   "outputs": [],
   "source": [
    "a = np.array([1,2,3])\n",
    "b = np.array([4,5,6])"
   ]
  },
  {
   "cell_type": "code",
   "execution_count": 47,
   "id": "344f6c12",
   "metadata": {},
   "outputs": [
    {
     "data": {
      "text/plain": [
       "array([1, 2, 3, 4, 5, 6])"
      ]
     },
     "execution_count": 47,
     "metadata": {},
     "output_type": "execute_result"
    }
   ],
   "source": [
    "np.concatenate((a,b))"
   ]
  },
  {
   "cell_type": "code",
   "execution_count": 48,
   "id": "26e1fa62",
   "metadata": {},
   "outputs": [],
   "source": [
    "x2chieu = np.array([[1,2,3],[4,5,6]])"
   ]
  },
  {
   "cell_type": "code",
   "execution_count": 49,
   "id": "c1de17fc",
   "metadata": {},
   "outputs": [
    {
     "data": {
      "text/plain": [
       "array([[1, 2, 3],\n",
       "       [4, 5, 6]])"
      ]
     },
     "execution_count": 49,
     "metadata": {},
     "output_type": "execute_result"
    }
   ],
   "source": [
    "x2chieu"
   ]
  },
  {
   "cell_type": "code",
   "execution_count": 50,
   "id": "b81ac78a",
   "metadata": {},
   "outputs": [
    {
     "data": {
      "text/plain": [
       "array([[1, 2, 3],\n",
       "       [4, 5, 6],\n",
       "       [1, 2, 3],\n",
       "       [4, 5, 6]])"
      ]
     },
     "execution_count": 50,
     "metadata": {},
     "output_type": "execute_result"
    }
   ],
   "source": [
    "np.concatenate((x2chieu,x2chieu)) #axis = 0 mặc định nối theo chiều ngang"
   ]
  },
  {
   "cell_type": "code",
   "execution_count": 51,
   "id": "2a930963",
   "metadata": {},
   "outputs": [
    {
     "data": {
      "text/plain": [
       "array([[1, 2, 3, 1, 2, 3],\n",
       "       [4, 5, 6, 4, 5, 6]])"
      ]
     },
     "execution_count": 51,
     "metadata": {},
     "output_type": "execute_result"
    }
   ],
   "source": [
    "np.concatenate((x2chieu,x2chieu), axis =1) #để axis =1 vào để nối theo chiều dọc 2 cái array 2 chiều với nhau"
   ]
  },
  {
   "cell_type": "code",
   "execution_count": 52,
   "id": "1729159d",
   "metadata": {},
   "outputs": [],
   "source": [
    "x10 = np.array([1,2,3])\n",
    "grid2 = np.array([[7,8,9],[4,5,6]])\n",
    "grid3 =np.array([[99],[99]])"
   ]
  },
  {
   "cell_type": "code",
   "execution_count": 53,
   "id": "d7e3419b",
   "metadata": {},
   "outputs": [
    {
     "data": {
      "text/plain": [
       "array([[1, 2, 3],\n",
       "       [7, 8, 9],\n",
       "       [4, 5, 6]])"
      ]
     },
     "execution_count": 53,
     "metadata": {},
     "output_type": "execute_result"
    }
   ],
   "source": [
    "np.vstack((x10,grid2)) #vertical"
   ]
  },
  {
   "cell_type": "code",
   "execution_count": 54,
   "id": "c1c6121a",
   "metadata": {},
   "outputs": [
    {
     "data": {
      "text/plain": [
       "array([[ 7,  8,  9, 99],\n",
       "       [ 4,  5,  6, 99]])"
      ]
     },
     "execution_count": 54,
     "metadata": {},
     "output_type": "execute_result"
    }
   ],
   "source": [
    "np.hstack((grid2,grid3)) #horizontal nhưng phải đúng mới ghép được, vì ghép theo hàng"
   ]
  },
  {
   "cell_type": "markdown",
   "id": "07804657",
   "metadata": {},
   "source": [
    "Split"
   ]
  },
  {
   "cell_type": "code",
   "execution_count": 55,
   "id": "7b5fca0a",
   "metadata": {},
   "outputs": [],
   "source": [
    "c = np.array([1,2,3,99,69,3,2,1])"
   ]
  },
  {
   "cell_type": "code",
   "execution_count": 56,
   "id": "53e34abd",
   "metadata": {},
   "outputs": [],
   "source": [
    "c1, c2, c3=np.split(c, [3,5])\n"
   ]
  },
  {
   "cell_type": "code",
   "execution_count": 57,
   "id": "f49bb5a2",
   "metadata": {},
   "outputs": [
    {
     "data": {
      "text/plain": [
       "[array([1, 2]), array([ 3, 99, 69]), array([3, 2, 1])]"
      ]
     },
     "execution_count": 57,
     "metadata": {},
     "output_type": "execute_result"
    }
   ],
   "source": [
    "np.split(c, [2,5])"
   ]
  },
  {
   "cell_type": "code",
   "execution_count": 58,
   "id": "24084be2",
   "metadata": {},
   "outputs": [
    {
     "data": {
      "text/plain": [
       "array([1, 2, 3])"
      ]
     },
     "execution_count": 58,
     "metadata": {},
     "output_type": "execute_result"
    }
   ],
   "source": [
    "c1"
   ]
  },
  {
   "cell_type": "code",
   "execution_count": 59,
   "id": "a08dfe42",
   "metadata": {},
   "outputs": [
    {
     "data": {
      "text/plain": [
       "array([99, 69])"
      ]
     },
     "execution_count": 59,
     "metadata": {},
     "output_type": "execute_result"
    }
   ],
   "source": [
    "c2"
   ]
  },
  {
   "cell_type": "code",
   "execution_count": 60,
   "id": "d8adeb9c",
   "metadata": {},
   "outputs": [
    {
     "data": {
      "text/plain": [
       "array([3, 2, 1])"
      ]
     },
     "execution_count": 60,
     "metadata": {},
     "output_type": "execute_result"
    }
   ],
   "source": [
    "c3"
   ]
  },
  {
   "cell_type": "markdown",
   "id": "2294513c",
   "metadata": {},
   "source": [
    "# 1.7 Broadcasting & Vectorized operations"
   ]
  },
  {
   "cell_type": "code",
   "execution_count": 61,
   "id": "ab25ca88",
   "metadata": {},
   "outputs": [],
   "source": [
    "a1 = np.arange(3)"
   ]
  },
  {
   "cell_type": "code",
   "execution_count": 62,
   "id": "84cd24df",
   "metadata": {},
   "outputs": [
    {
     "data": {
      "text/plain": [
       "array([0, 1, 2])"
      ]
     },
     "execution_count": 62,
     "metadata": {},
     "output_type": "execute_result"
    }
   ],
   "source": [
    "a1"
   ]
  },
  {
   "cell_type": "code",
   "execution_count": 63,
   "id": "3c97a4c1",
   "metadata": {},
   "outputs": [
    {
     "data": {
      "text/plain": [
       "array([6, 7, 8])"
      ]
     },
     "execution_count": 63,
     "metadata": {},
     "output_type": "execute_result"
    }
   ],
   "source": [
    "a +5 #cùng size và cộng vào tất cả giá trị trong array đó"
   ]
  },
  {
   "cell_type": "code",
   "execution_count": 64,
   "id": "5a5bd925",
   "metadata": {},
   "outputs": [],
   "source": [
    "b1=np.ones((3,3))"
   ]
  },
  {
   "cell_type": "code",
   "execution_count": 65,
   "id": "807e248b",
   "metadata": {},
   "outputs": [
    {
     "data": {
      "text/plain": [
       "array([[1., 1., 1.],\n",
       "       [1., 1., 1.],\n",
       "       [1., 1., 1.]])"
      ]
     },
     "execution_count": 65,
     "metadata": {},
     "output_type": "execute_result"
    }
   ],
   "source": [
    "b1"
   ]
  },
  {
   "cell_type": "code",
   "execution_count": 66,
   "id": "d267e948",
   "metadata": {},
   "outputs": [
    {
     "data": {
      "text/plain": [
       "((3,), (3, 3))"
      ]
     },
     "execution_count": 66,
     "metadata": {},
     "output_type": "execute_result"
    }
   ],
   "source": [
    "a1.shape, b1.shape"
   ]
  },
  {
   "cell_type": "code",
   "execution_count": 67,
   "id": "c6a85a52",
   "metadata": {},
   "outputs": [
    {
     "data": {
      "text/plain": [
       "array([[1., 2., 3.],\n",
       "       [1., 2., 3.],\n",
       "       [1., 2., 3.]])"
      ]
     },
     "execution_count": 67,
     "metadata": {},
     "output_type": "execute_result"
    }
   ],
   "source": [
    "a1+b1"
   ]
  },
  {
   "cell_type": "code",
   "execution_count": 68,
   "id": "ae2190f2",
   "metadata": {},
   "outputs": [],
   "source": [
    "a2 =np.arange(3).reshape(3,1)"
   ]
  },
  {
   "cell_type": "code",
   "execution_count": 69,
   "id": "4921787a",
   "metadata": {},
   "outputs": [
    {
     "data": {
      "text/plain": [
       "array([[0],\n",
       "       [1],\n",
       "       [2]])"
      ]
     },
     "execution_count": 69,
     "metadata": {},
     "output_type": "execute_result"
    }
   ],
   "source": [
    "a2"
   ]
  },
  {
   "cell_type": "code",
   "execution_count": 70,
   "id": "9745c532",
   "metadata": {},
   "outputs": [
    {
     "data": {
      "text/plain": [
       "array([[0, 1, 2],\n",
       "       [1, 2, 3],\n",
       "       [2, 3, 4]])"
      ]
     },
     "execution_count": 70,
     "metadata": {},
     "output_type": "execute_result"
    }
   ],
   "source": [
    "a1+a2"
   ]
  },
  {
   "cell_type": "markdown",
   "id": "28c21e83",
   "metadata": {},
   "source": [
    "# 1.8 Manipulating & Comparing array"
   ]
  },
  {
   "cell_type": "markdown",
   "id": "f59ffde2",
   "metadata": {},
   "source": [
    "Link: https://www.youtube.com/watch?v=1eSmR2EJjYM&t=43s"
   ]
  },
  {
   "cell_type": "markdown",
   "id": "79be1572",
   "metadata": {},
   "source": [
    "# 1.9 Sorting"
   ]
  },
  {
   "cell_type": "code",
   "execution_count": 83,
   "id": "2fdfb6b9",
   "metadata": {},
   "outputs": [],
   "source": [
    "q = np.array([8,6,4,3,1,2,5])"
   ]
  },
  {
   "cell_type": "code",
   "execution_count": 84,
   "id": "61a67d1d",
   "metadata": {},
   "outputs": [
    {
     "data": {
      "text/plain": [
       "array([1, 2, 3, 4, 5, 6, 8])"
      ]
     },
     "execution_count": 84,
     "metadata": {},
     "output_type": "execute_result"
    }
   ],
   "source": [
    "np.sort(q)"
   ]
  },
  {
   "cell_type": "code",
   "execution_count": 85,
   "id": "a67d0d43",
   "metadata": {},
   "outputs": [
    {
     "data": {
      "text/plain": [
       "array([4, 5, 3, 2, 6, 1, 0], dtype=int64)"
      ]
     },
     "execution_count": 85,
     "metadata": {},
     "output_type": "execute_result"
    }
   ],
   "source": [
    "np.argsort(q) #vị trí của các giá trị khi mà sort"
   ]
  },
  {
   "cell_type": "markdown",
   "id": "1ab4276a",
   "metadata": {},
   "source": [
    "Sorting along rows and columns"
   ]
  },
  {
   "cell_type": "code",
   "execution_count": 90,
   "id": "3bf96cac",
   "metadata": {},
   "outputs": [],
   "source": [
    "np.random.seed(42)"
   ]
  },
  {
   "cell_type": "code",
   "execution_count": 91,
   "id": "9fd7bde5",
   "metadata": {},
   "outputs": [
    {
     "data": {
      "text/plain": [
       "array([[6, 3, 7, 4, 6, 9],\n",
       "       [2, 6, 7, 4, 3, 7],\n",
       "       [7, 2, 5, 4, 1, 7],\n",
       "       [5, 1, 4, 0, 9, 5]])"
      ]
     },
     "execution_count": 91,
     "metadata": {},
     "output_type": "execute_result"
    }
   ],
   "source": [
    "MatA= np.random.randint(0,10,size=(4,6))\n",
    "MatA"
   ]
  },
  {
   "cell_type": "code",
   "execution_count": 92,
   "id": "e21e353f",
   "metadata": {},
   "outputs": [
    {
     "data": {
      "text/plain": [
       "array([[2, 1, 4, 0, 1, 5],\n",
       "       [5, 2, 5, 4, 3, 7],\n",
       "       [6, 3, 7, 4, 6, 7],\n",
       "       [7, 6, 7, 4, 9, 9]])"
      ]
     },
     "execution_count": 92,
     "metadata": {},
     "output_type": "execute_result"
    }
   ],
   "source": [
    "np.sort(MatA, axis = 0) #sắp xếp theo chiều dọc"
   ]
  },
  {
   "cell_type": "code",
   "execution_count": 93,
   "id": "2bd1d30a",
   "metadata": {},
   "outputs": [
    {
     "data": {
      "text/plain": [
       "array([[3, 4, 6, 6, 7, 9],\n",
       "       [2, 3, 4, 6, 7, 7],\n",
       "       [1, 2, 4, 5, 7, 7],\n",
       "       [0, 1, 4, 5, 5, 9]])"
      ]
     },
     "execution_count": 93,
     "metadata": {},
     "output_type": "execute_result"
    }
   ],
   "source": [
    "np.sort(MatA, axis = 1) #sắp xếp theo chiều ngang"
   ]
  },
  {
   "cell_type": "markdown",
   "id": "beba9c84",
   "metadata": {},
   "source": [
    "# 2.0 Dot Product Example"
   ]
  },
  {
   "cell_type": "code",
   "execution_count": 95,
   "id": "fa888ece",
   "metadata": {},
   "outputs": [],
   "source": [
    "np.random.seed(0)"
   ]
  },
  {
   "cell_type": "code",
   "execution_count": 96,
   "id": "33f60a6d",
   "metadata": {},
   "outputs": [],
   "source": [
    "sale=np.random.randint(0,20,size =(5,3))"
   ]
  },
  {
   "cell_type": "code",
   "execution_count": 97,
   "id": "8df15dd0",
   "metadata": {},
   "outputs": [
    {
     "data": {
      "text/plain": [
       "array([[12, 15,  0],\n",
       "       [ 3,  3,  7],\n",
       "       [ 9, 19, 18],\n",
       "       [ 4,  6, 12],\n",
       "       [ 1,  6,  7]])"
      ]
     },
     "execution_count": 97,
     "metadata": {},
     "output_type": "execute_result"
    }
   ],
   "source": [
    "sale"
   ]
  },
  {
   "cell_type": "code",
   "execution_count": 102,
   "id": "28bf486b",
   "metadata": {},
   "outputs": [],
   "source": [
    "weekysale=pd.DataFrame(sale, index = ['Mon','Tue', 'WEd','Thurs','Fri'],\n",
    "                       columns=['Almond Butter','Peanut Butter','Cashew Butter'])"
   ]
  },
  {
   "cell_type": "code",
   "execution_count": 103,
   "id": "66dfb031",
   "metadata": {},
   "outputs": [
    {
     "data": {
      "text/html": [
       "<div>\n",
       "<style scoped>\n",
       "    .dataframe tbody tr th:only-of-type {\n",
       "        vertical-align: middle;\n",
       "    }\n",
       "\n",
       "    .dataframe tbody tr th {\n",
       "        vertical-align: top;\n",
       "    }\n",
       "\n",
       "    .dataframe thead th {\n",
       "        text-align: right;\n",
       "    }\n",
       "</style>\n",
       "<table border=\"1\" class=\"dataframe\">\n",
       "  <thead>\n",
       "    <tr style=\"text-align: right;\">\n",
       "      <th></th>\n",
       "      <th>Almond Butter</th>\n",
       "      <th>Peanut Butter</th>\n",
       "      <th>Cashew Butter</th>\n",
       "    </tr>\n",
       "  </thead>\n",
       "  <tbody>\n",
       "    <tr>\n",
       "      <th>Mon</th>\n",
       "      <td>12</td>\n",
       "      <td>15</td>\n",
       "      <td>0</td>\n",
       "    </tr>\n",
       "    <tr>\n",
       "      <th>Tue</th>\n",
       "      <td>3</td>\n",
       "      <td>3</td>\n",
       "      <td>7</td>\n",
       "    </tr>\n",
       "    <tr>\n",
       "      <th>WEd</th>\n",
       "      <td>9</td>\n",
       "      <td>19</td>\n",
       "      <td>18</td>\n",
       "    </tr>\n",
       "    <tr>\n",
       "      <th>Thurs</th>\n",
       "      <td>4</td>\n",
       "      <td>6</td>\n",
       "      <td>12</td>\n",
       "    </tr>\n",
       "    <tr>\n",
       "      <th>Fri</th>\n",
       "      <td>1</td>\n",
       "      <td>6</td>\n",
       "      <td>7</td>\n",
       "    </tr>\n",
       "  </tbody>\n",
       "</table>\n",
       "</div>"
      ],
      "text/plain": [
       "       Almond Butter  Peanut Butter  Cashew Butter\n",
       "Mon               12             15              0\n",
       "Tue                3              3              7\n",
       "WEd                9             19             18\n",
       "Thurs              4              6             12\n",
       "Fri                1              6              7"
      ]
     },
     "execution_count": 103,
     "metadata": {},
     "output_type": "execute_result"
    }
   ],
   "source": [
    "weekysale"
   ]
  },
  {
   "cell_type": "code",
   "execution_count": 104,
   "id": "28699890",
   "metadata": {},
   "outputs": [],
   "source": [
    "prices = np.array([10,8,12])"
   ]
  },
  {
   "cell_type": "code",
   "execution_count": 106,
   "id": "2a26d234",
   "metadata": {},
   "outputs": [],
   "source": [
    "butter_prices = pd.DataFrame(prices.reshape(1,3), index=['price'],columns =['Almond Butter','Peanut Butter','Cashew Butter'])"
   ]
  },
  {
   "cell_type": "code",
   "execution_count": 107,
   "id": "f11973d4",
   "metadata": {},
   "outputs": [
    {
     "data": {
      "text/html": [
       "<div>\n",
       "<style scoped>\n",
       "    .dataframe tbody tr th:only-of-type {\n",
       "        vertical-align: middle;\n",
       "    }\n",
       "\n",
       "    .dataframe tbody tr th {\n",
       "        vertical-align: top;\n",
       "    }\n",
       "\n",
       "    .dataframe thead th {\n",
       "        text-align: right;\n",
       "    }\n",
       "</style>\n",
       "<table border=\"1\" class=\"dataframe\">\n",
       "  <thead>\n",
       "    <tr style=\"text-align: right;\">\n",
       "      <th></th>\n",
       "      <th>Almond Butter</th>\n",
       "      <th>Peanut Butter</th>\n",
       "      <th>Cashew Butter</th>\n",
       "    </tr>\n",
       "  </thead>\n",
       "  <tbody>\n",
       "    <tr>\n",
       "      <th>price</th>\n",
       "      <td>10</td>\n",
       "      <td>8</td>\n",
       "      <td>12</td>\n",
       "    </tr>\n",
       "  </tbody>\n",
       "</table>\n",
       "</div>"
      ],
      "text/plain": [
       "       Almond Butter  Peanut Butter  Cashew Butter\n",
       "price             10              8             12"
      ]
     },
     "execution_count": 107,
     "metadata": {},
     "output_type": "execute_result"
    }
   ],
   "source": [
    "butter_prices"
   ]
  },
  {
   "cell_type": "code",
   "execution_count": 108,
   "id": "20f4283f",
   "metadata": {},
   "outputs": [
    {
     "data": {
      "text/plain": [
       "((5, 3), (1, 3))"
      ]
     },
     "execution_count": 108,
     "metadata": {},
     "output_type": "execute_result"
    }
   ],
   "source": [
    "weekysale.shape,butter_prices.shape"
   ]
  },
  {
   "cell_type": "code",
   "execution_count": 110,
   "id": "d86bb53e",
   "metadata": {},
   "outputs": [],
   "source": [
    "total = weekysale.dot(butter_prices.T) #phải transpose để có thể nhân được 2 cái shape khác nhau kìa"
   ]
  },
  {
   "cell_type": "code",
   "execution_count": 111,
   "id": "48fbea25",
   "metadata": {},
   "outputs": [
    {
     "data": {
      "text/html": [
       "<div>\n",
       "<style scoped>\n",
       "    .dataframe tbody tr th:only-of-type {\n",
       "        vertical-align: middle;\n",
       "    }\n",
       "\n",
       "    .dataframe tbody tr th {\n",
       "        vertical-align: top;\n",
       "    }\n",
       "\n",
       "    .dataframe thead th {\n",
       "        text-align: right;\n",
       "    }\n",
       "</style>\n",
       "<table border=\"1\" class=\"dataframe\">\n",
       "  <thead>\n",
       "    <tr style=\"text-align: right;\">\n",
       "      <th></th>\n",
       "      <th>price</th>\n",
       "    </tr>\n",
       "  </thead>\n",
       "  <tbody>\n",
       "    <tr>\n",
       "      <th>Mon</th>\n",
       "      <td>240</td>\n",
       "    </tr>\n",
       "    <tr>\n",
       "      <th>Tue</th>\n",
       "      <td>138</td>\n",
       "    </tr>\n",
       "    <tr>\n",
       "      <th>WEd</th>\n",
       "      <td>458</td>\n",
       "    </tr>\n",
       "    <tr>\n",
       "      <th>Thurs</th>\n",
       "      <td>232</td>\n",
       "    </tr>\n",
       "    <tr>\n",
       "      <th>Fri</th>\n",
       "      <td>142</td>\n",
       "    </tr>\n",
       "  </tbody>\n",
       "</table>\n",
       "</div>"
      ],
      "text/plain": [
       "       price\n",
       "Mon      240\n",
       "Tue      138\n",
       "WEd      458\n",
       "Thurs    232\n",
       "Fri      142"
      ]
     },
     "execution_count": 111,
     "metadata": {},
     "output_type": "execute_result"
    }
   ],
   "source": [
    "total"
   ]
  },
  {
   "cell_type": "code",
   "execution_count": 112,
   "id": "9856832f",
   "metadata": {},
   "outputs": [],
   "source": [
    "weekysale['Total prices'] =total #thêm cột vào trong Dataframe"
   ]
  },
  {
   "cell_type": "code",
   "execution_count": 113,
   "id": "de82f244",
   "metadata": {},
   "outputs": [
    {
     "data": {
      "text/html": [
       "<div>\n",
       "<style scoped>\n",
       "    .dataframe tbody tr th:only-of-type {\n",
       "        vertical-align: middle;\n",
       "    }\n",
       "\n",
       "    .dataframe tbody tr th {\n",
       "        vertical-align: top;\n",
       "    }\n",
       "\n",
       "    .dataframe thead th {\n",
       "        text-align: right;\n",
       "    }\n",
       "</style>\n",
       "<table border=\"1\" class=\"dataframe\">\n",
       "  <thead>\n",
       "    <tr style=\"text-align: right;\">\n",
       "      <th></th>\n",
       "      <th>Almond Butter</th>\n",
       "      <th>Peanut Butter</th>\n",
       "      <th>Cashew Butter</th>\n",
       "      <th>Total prices</th>\n",
       "    </tr>\n",
       "  </thead>\n",
       "  <tbody>\n",
       "    <tr>\n",
       "      <th>Mon</th>\n",
       "      <td>12</td>\n",
       "      <td>15</td>\n",
       "      <td>0</td>\n",
       "      <td>240</td>\n",
       "    </tr>\n",
       "    <tr>\n",
       "      <th>Tue</th>\n",
       "      <td>3</td>\n",
       "      <td>3</td>\n",
       "      <td>7</td>\n",
       "      <td>138</td>\n",
       "    </tr>\n",
       "    <tr>\n",
       "      <th>WEd</th>\n",
       "      <td>9</td>\n",
       "      <td>19</td>\n",
       "      <td>18</td>\n",
       "      <td>458</td>\n",
       "    </tr>\n",
       "    <tr>\n",
       "      <th>Thurs</th>\n",
       "      <td>4</td>\n",
       "      <td>6</td>\n",
       "      <td>12</td>\n",
       "      <td>232</td>\n",
       "    </tr>\n",
       "    <tr>\n",
       "      <th>Fri</th>\n",
       "      <td>1</td>\n",
       "      <td>6</td>\n",
       "      <td>7</td>\n",
       "      <td>142</td>\n",
       "    </tr>\n",
       "  </tbody>\n",
       "</table>\n",
       "</div>"
      ],
      "text/plain": [
       "       Almond Butter  Peanut Butter  Cashew Butter  Total prices\n",
       "Mon               12             15              0           240\n",
       "Tue                3              3              7           138\n",
       "WEd                9             19             18           458\n",
       "Thurs              4              6             12           232\n",
       "Fri                1              6              7           142"
      ]
     },
     "execution_count": 113,
     "metadata": {},
     "output_type": "execute_result"
    }
   ],
   "source": [
    "weekysale"
   ]
  }
 ],
 "metadata": {
  "kernelspec": {
   "display_name": "Python 3 (ipykernel)",
   "language": "python",
   "name": "python3"
  },
  "language_info": {
   "codemirror_mode": {
    "name": "ipython",
    "version": 3
   },
   "file_extension": ".py",
   "mimetype": "text/x-python",
   "name": "python",
   "nbconvert_exporter": "python",
   "pygments_lexer": "ipython3",
   "version": "3.9.13"
  }
 },
 "nbformat": 4,
 "nbformat_minor": 5
}
